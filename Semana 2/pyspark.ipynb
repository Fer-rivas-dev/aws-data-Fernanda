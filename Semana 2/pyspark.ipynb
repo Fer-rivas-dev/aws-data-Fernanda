{
 "cells": [
  {
   "cell_type": "code",
   "execution_count": 2,
   "id": "75aaffc3-8eb8-48e5-bb65-489f92f92396",
   "metadata": {},
   "outputs": [],
   "source": [
    "from pyspark.sql import SparkSession\n",
    "from pyspark.sql.functions import explode, split, col, regexp_replace, size\n",
    "import requests"
   ]
  },
  {
   "cell_type": "code",
   "execution_count": 3,
   "id": "26d177f0-29b2-4842-834f-c5771e793ecd",
   "metadata": {},
   "outputs": [
    {
     "name": "stderr",
     "output_type": "stream",
     "text": [
      "WARNING: Using incubator modules: jdk.incubator.vector\n",
      "Using Spark's default log4j profile: org/apache/spark/log4j2-defaults.properties\n",
      "Setting default log level to \"WARN\".\n",
      "To adjust logging level use sc.setLogLevel(newLevel). For SparkR, use setLogLevel(newLevel).\n",
      "25/10/14 22:35:34 WARN NativeCodeLoader: Unable to load native-hadoop library for your platform... using builtin-java classes where applicable\n",
      "25/10/14 22:35:35 WARN Utils: Service 'SparkUI' could not bind on port 4040. Attempting port 4041.\n",
      "25/10/14 22:35:35 WARN Utils: Service 'SparkUI' could not bind on port 4041. Attempting port 4042.\n",
      "25/10/14 22:35:35 WARN Utils: Service 'SparkUI' could not bind on port 4042. Attempting port 4043.\n"
     ]
    }
   ],
   "source": [
    "spark = SparkSession.builder.appName(\"AnalilisLibro\").getOrCreate()"
   ]
  },
  {
   "cell_type": "code",
   "execution_count": 4,
   "id": "09f18887-0982-4a97-9201-0fad523fdfb9",
   "metadata": {},
   "outputs": [],
   "source": [
    "url = \"https://www.gutenberg.org/cache/epub/28885/pg28885.txt\""
   ]
  },
  {
   "cell_type": "code",
   "execution_count": 5,
   "id": "3fcdb591-d082-48f8-bcfa-ce93cc7e62ec",
   "metadata": {},
   "outputs": [],
   "source": [
    "response = requests.get(url)\n",
    "libro_texto = response.text"
   ]
  },
  {
   "cell_type": "code",
   "execution_count": 7,
   "id": "a73dbe09-02c8-4ac2-a9f8-2198874f0b24",
   "metadata": {},
   "outputs": [],
   "source": [
    "with open(\"libro.txt\", \"w\", encoding=\"utf-8\") as file:\n",
    "    file.write(libro_texto)"
   ]
  },
  {
   "cell_type": "code",
   "execution_count": 8,
   "id": "786d51e7-cb57-414e-b175-422546a6e84c",
   "metadata": {},
   "outputs": [
    {
     "name": "stdout",
     "output_type": "stream",
     "text": [
      " AWS_S3\t\t\t   Untitled4.ipynb   awscliv2.zip\n",
      "'Analisis de df 1.ipynb'   Untitled5.ipynb   ejercicios_python_desde_cero.ipynb\n",
      " Netflix.ipynb\t\t   Untitled6.ipynb   libro.txt\n",
      " Untitled.ipynb\t\t   Untitled7.ipynb   netflix_titles.csv\n",
      " Untitled1.ipynb\t   Untitled8.ipynb   netlflix.ipynb\n",
      " Untitled10.ipynb\t   Untitled9.ipynb   r_m.csv\n",
      " Untitled11.ipynb\t   actions-runner    rick_and_morty_characters.csv\n",
      " Untitled12.ipynb\t   app.py\t     titanic.zip\n",
      " Untitled2.ipynb\t   app_rm.py\t     venv\n",
      " Untitled3.ipynb\t   aws\n"
     ]
    }
   ],
   "source": [
    "!ls"
   ]
  },
  {
   "cell_type": "code",
   "execution_count": 10,
   "id": "4e489bb2-042f-4e38-8ab0-c2dd358e7823",
   "metadata": {},
   "outputs": [],
   "source": [
    "rdd = spark.sparkContext.textFile(\"libro.txt\")"
   ]
  },
  {
   "cell_type": "code",
   "execution_count": 11,
   "id": "19749295-7e74-46e0-888f-4022cf7e18da",
   "metadata": {},
   "outputs": [
    {
     "name": "stdout",
     "output_type": "stream",
     "text": [
      "libro.txt MapPartitionsRDD[1] at textFile at NativeMethodAccessorImpl.java:0\n"
     ]
    }
   ],
   "source": [
    "print(rdd)"
   ]
  },
  {
   "cell_type": "code",
   "execution_count": 12,
   "id": "42645df4-9498-4977-a4e5-9b6e8683bd2b",
   "metadata": {},
   "outputs": [],
   "source": [
    "rdd = rdd.filter(lambda line: line.strip() !=\"\")"
   ]
  },
  {
   "cell_type": "code",
   "execution_count": 17,
   "id": "648ebb8c-2c76-4a4c-95fe-dd98ccd26de7",
   "metadata": {},
   "outputs": [
    {
     "name": "stderr",
     "output_type": "stream",
     "text": [
      "                                                                                "
     ]
    }
   ],
   "source": [
    "capitulos = rdd.filter(lambda line: line.strip().startswith(\"CHAPTER\")).collect()"
   ]
  },
  {
   "cell_type": "code",
   "execution_count": 18,
   "id": "aa8a474d-c78f-435f-906f-b8dee68be284",
   "metadata": {},
   "outputs": [],
   "source": [
    "parrafos = rdd.flatMap(lambda line: line.split(\"\\n\\n\"))"
   ]
  },
  {
   "cell_type": "code",
   "execution_count": 19,
   "id": "7d97bc4f-a680-418e-9bcf-fc719b285c3d",
   "metadata": {},
   "outputs": [],
   "source": [
    "df_parrafos = parrafos.map(lambda p: (p,)).toDF([\"parrafos\"])"
   ]
  },
  {
   "cell_type": "code",
   "execution_count": 22,
   "id": "71922b73-7103-4e9e-b385-47f9fa0e3171",
   "metadata": {},
   "outputs": [
    {
     "name": "stdout",
     "output_type": "stream",
     "text": [
      "+--------------------+\n",
      "|            parrafos|\n",
      "+--------------------+\n",
      "|The Project Guten...|\n",
      "|This ebook is for...|\n",
      "|most other parts ...|\n",
      "|whatsoever. You m...|\n",
      "|of the Project Gu...|\n",
      "|at www.gutenberg....|\n",
      "|you will have to ...|\n",
      "|before using this...|\n",
      "|Title: Alice's Ad...|\n",
      "|Author: Lewis Car...|\n",
      "|Contributor: Aust...|\n",
      "|Illustrator: Arth...|\n",
      "|Release date: May...|\n",
      "|                M...|\n",
      "|   Language: English|\n",
      "|Credits: Produced...|\n",
      "|        Proofread...|\n",
      "|        produced ...|\n",
      "|        Universit...|\n",
      "|*** START OF THE ...|\n",
      "+--------------------+\n",
      "only showing top 20 rows\n"
     ]
    }
   ],
   "source": [
    "df_parrafos.show()"
   ]
  },
  {
   "cell_type": "code",
   "execution_count": 24,
   "id": "65798cc5-ec37-4169-968b-b3ddd3bd8ec1",
   "metadata": {},
   "outputs": [
    {
     "name": "stderr",
     "output_type": "stream",
     "text": [
      "<>:2: SyntaxWarning: invalid escape sequence '\\s'\n",
      "<>:3: SyntaxWarning: invalid escape sequence '\\s'\n",
      "<>:6: SyntaxWarning: invalid escape sequence '\\.'\n",
      "<>:2: SyntaxWarning: invalid escape sequence '\\s'\n",
      "<>:3: SyntaxWarning: invalid escape sequence '\\s'\n",
      "<>:6: SyntaxWarning: invalid escape sequence '\\.'\n",
      "/tmp/ipykernel_110053/2205023265.py:2: SyntaxWarning: invalid escape sequence '\\s'\n",
      "  df_parrafos = df_parrafos.withColumn(\"parrafo_limpio\", regexp_replace(col(\"parrafos\"), \"[^a-zA-Z\\s]\", \"\").alias(\"parrafo_limpio\"))\n",
      "/tmp/ipykernel_110053/2205023265.py:3: SyntaxWarning: invalid escape sequence '\\s'\n",
      "  df_parrafos = df_parrafos.withColumn(\"parrafo_limpio\", regexp_replace(col(\"parrafo_limpio\"), \"\\s+\", \" \").alias(\"parrafo_limpio\"))\n",
      "/tmp/ipykernel_110053/2205023265.py:6: SyntaxWarning: invalid escape sequence '\\.'\n",
      "  df_parrafos = df_parrafos.withColumn(\"oraciones\", split(col(\"parrafo_limpio\"), \"\\.\"))\n"
     ]
    }
   ],
   "source": [
    "# Limpiar el texto: eliminar caracteres no alfanuméricos y convertir a minúsculas\n",
    "df_parrafos = df_parrafos.withColumn(\"parrafo_limpio\", regexp_replace(col(\"parrafos\"), \"[^a-zA-Z\\s]\", \"\").alias(\"parrafo_limpio\"))\n",
    "df_parrafos = df_parrafos.withColumn(\"parrafo_limpio\", regexp_replace(col(\"parrafo_limpio\"), \"\\s+\", \" \").alias(\"parrafo_limpio\"))\n",
    "\n",
    "# Dividir los párrafos en oraciones y palabras\n",
    "df_parrafos = df_parrafos.withColumn(\"oraciones\", split(col(\"parrafo_limpio\"), \"\\.\"))\n",
    "df_parrafos = df_parrafos.withColumn(\"num_oraciones\", size(col(\"oraciones\")))\n",
    "df_parrafos = df_parrafos.withColumn(\"palabras\", split(col(\"parrafo_limpio\"), \" \"))\n",
    "df_parrafos = df_parrafos.withColumn(\"num_palabras\", size(col(\"palabras\")))\n"
   ]
  },
  {
   "cell_type": "code",
   "execution_count": 25,
   "id": "2b502aa5-25e1-4a84-974e-adf62c696fc7",
   "metadata": {},
   "outputs": [
    {
     "name": "stdout",
     "output_type": "stream",
     "text": [
      "+--------------------+--------------------+--------------------+-------------+--------------------+------------+\n",
      "|            parrafos|      parrafo_limpio|           oraciones|num_oraciones|            palabras|num_palabras|\n",
      "+--------------------+--------------------+--------------------+-------------+--------------------+------------+\n",
      "|The Project Guten...|The Project Guten...|[The Project Gute...|            1|[The, Project, Gu...|           9|\n",
      "|This ebook is for...|This ebook is for...|[This ebook is fo...|            1|[This, ebook, is,...|          14|\n",
      "|most other parts ...|most other parts ...|[most other parts...|            1|[most, other, par...|          14|\n",
      "|whatsoever. You m...|whatsoever You ma...|[whatsoever You m...|            1|[whatsoever, You,...|          14|\n",
      "|of the Project Gu...|of the Project Gu...|[of the Project G...|            1|[of, the, Project...|          11|\n",
      "|at www.gutenberg....|at wwwgutenbergor...|[at wwwgutenbergo...|            1|[at, wwwgutenberg...|          11|\n",
      "|you will have to ...|you will have to ...|[you will have to...|            1|[you, will, have,...|          14|\n",
      "|before using this...|before using this...|[before using thi...|            1|[before, using, t...|           4|\n",
      "|Title: Alice's Ad...|Title Alices Adve...|[Title Alices Adv...|            1|[Title, Alices, A...|           5|\n",
      "|Author: Lewis Car...|Author Lewis Carroll|[Author Lewis Car...|            1|[Author, Lewis, C...|           3|\n",
      "|Contributor: Aust...|Contributor Austi...|[Contributor Aust...|            1|[Contributor, Aus...|           3|\n",
      "|Illustrator: Arth...|Illustrator Arthu...|[Illustrator Arth...|            1|[Illustrator, Art...|           3|\n",
      "|Release date: May...|Release date May ...|[Release date May...|            1|[Release, date, M...|           5|\n",
      "|                M...| Most recently up...|[ Most recently u...|            1|[, Most, recently...|           6|\n",
      "|   Language: English|    Language English|  [Language English]|            1| [Language, English]|           2|\n",
      "|Credits: Produced...|Credits Produced ...|[Credits Produced...|            1|[Credits, Produce...|          10|\n",
      "|        Proofread...| Proofreading Tea...|[ Proofreading Te...|            1|[, Proofreading, ...|           8|\n",
      "|        produced ...| produced from im...|[ produced from i...|            1|[, produced, from...|           9|\n",
      "|        Universit...| University of Fl...|[ University of F...|            1|[, University, of...|           6|\n",
      "|*** START OF THE ...| START OF THE PRO...|[ START OF THE PR...|            1|[, START, OF, THE...|          12|\n",
      "+--------------------+--------------------+--------------------+-------------+--------------------+------------+\n",
      "only showing top 20 rows\n"
     ]
    }
   ],
   "source": [
    "df_parrafos.show()"
   ]
  },
  {
   "cell_type": "code",
   "execution_count": 26,
   "id": "13eb9f0f-4e7b-4818-b835-20b3f17dd602",
   "metadata": {},
   "outputs": [],
   "source": [
    "df_parrafos = df_parrafos.withColumn(\"longitud_promedio_palabra\", col(\"num_palabras\") / col(\"num_oraciones\"))\n"
   ]
  },
  {
   "cell_type": "code",
   "execution_count": 27,
   "id": "b5d57164-d70c-4b44-a3bd-88eb8ee96646",
   "metadata": {},
   "outputs": [
    {
     "name": "stdout",
     "output_type": "stream",
     "text": [
      "+--------------------+--------------------+--------------------+-------------+--------------------+------------+-------------------------+\n",
      "|            parrafos|      parrafo_limpio|           oraciones|num_oraciones|            palabras|num_palabras|longitud_promedio_palabra|\n",
      "+--------------------+--------------------+--------------------+-------------+--------------------+------------+-------------------------+\n",
      "|The Project Guten...|The Project Guten...|[The Project Gute...|            1|[The, Project, Gu...|           9|                      9.0|\n",
      "|This ebook is for...|This ebook is for...|[This ebook is fo...|            1|[This, ebook, is,...|          14|                     14.0|\n",
      "|most other parts ...|most other parts ...|[most other parts...|            1|[most, other, par...|          14|                     14.0|\n",
      "|whatsoever. You m...|whatsoever You ma...|[whatsoever You m...|            1|[whatsoever, You,...|          14|                     14.0|\n",
      "|of the Project Gu...|of the Project Gu...|[of the Project G...|            1|[of, the, Project...|          11|                     11.0|\n",
      "|at www.gutenberg....|at wwwgutenbergor...|[at wwwgutenbergo...|            1|[at, wwwgutenberg...|          11|                     11.0|\n",
      "|you will have to ...|you will have to ...|[you will have to...|            1|[you, will, have,...|          14|                     14.0|\n",
      "|before using this...|before using this...|[before using thi...|            1|[before, using, t...|           4|                      4.0|\n",
      "|Title: Alice's Ad...|Title Alices Adve...|[Title Alices Adv...|            1|[Title, Alices, A...|           5|                      5.0|\n",
      "|Author: Lewis Car...|Author Lewis Carroll|[Author Lewis Car...|            1|[Author, Lewis, C...|           3|                      3.0|\n",
      "|Contributor: Aust...|Contributor Austi...|[Contributor Aust...|            1|[Contributor, Aus...|           3|                      3.0|\n",
      "|Illustrator: Arth...|Illustrator Arthu...|[Illustrator Arth...|            1|[Illustrator, Art...|           3|                      3.0|\n",
      "|Release date: May...|Release date May ...|[Release date May...|            1|[Release, date, M...|           5|                      5.0|\n",
      "|                M...| Most recently up...|[ Most recently u...|            1|[, Most, recently...|           6|                      6.0|\n",
      "|   Language: English|    Language English|  [Language English]|            1| [Language, English]|           2|                      2.0|\n",
      "|Credits: Produced...|Credits Produced ...|[Credits Produced...|            1|[Credits, Produce...|          10|                     10.0|\n",
      "|        Proofread...| Proofreading Tea...|[ Proofreading Te...|            1|[, Proofreading, ...|           8|                      8.0|\n",
      "|        produced ...| produced from im...|[ produced from i...|            1|[, produced, from...|           9|                      9.0|\n",
      "|        Universit...| University of Fl...|[ University of F...|            1|[, University, of...|           6|                      6.0|\n",
      "|*** START OF THE ...| START OF THE PRO...|[ START OF THE PR...|            1|[, START, OF, THE...|          12|                     12.0|\n",
      "+--------------------+--------------------+--------------------+-------------+--------------------+------------+-------------------------+\n",
      "only showing top 20 rows\n"
     ]
    }
   ],
   "source": [
    "df_parrafos.show()"
   ]
  },
  {
   "cell_type": "code",
   "execution_count": 28,
   "id": "abaf2721-af88-4647-8e2f-baf8662e8c23",
   "metadata": {},
   "outputs": [],
   "source": [
    "df_parrafos = df_parrafos.withColumn(\"vocabulario_unico\", size(split(col(\"parrafo_limpio\"), \" \")))\n"
   ]
  },
  {
   "cell_type": "code",
   "execution_count": 30,
   "id": "02e41450-6caa-4ca7-9622-60e66b78e863",
   "metadata": {},
   "outputs": [
    {
     "name": "stdout",
     "output_type": "stream",
     "text": [
      "+-----------------------------------------------------------------------------+-------------+------------+-------------------------+-----------------+\n",
      "|parrafos                                                                     |num_oraciones|num_palabras|longitud_promedio_palabra|vocabulario_unico|\n",
      "+-----------------------------------------------------------------------------+-------------+------------+-------------------------+-----------------+\n",
      "|The Project Gutenberg eBook of Alice's Adventures in Wonderland              |1            |9           |9.0                      |9                |\n",
      "|This ebook is for the use of anyone anywhere in the United States and        |1            |14          |14.0                     |14               |\n",
      "|most other parts of the world at no cost and with almost no restrictions     |1            |14          |14.0                     |14               |\n",
      "|whatsoever. You may copy it, give it away or re-use it under the terms       |1            |14          |14.0                     |14               |\n",
      "|of the Project Gutenberg License included with this ebook or online          |1            |11          |11.0                     |11               |\n",
      "|at www.gutenberg.org. If you are not located in the United States,           |1            |11          |11.0                     |11               |\n",
      "|you will have to check the laws of the country where you are located         |1            |14          |14.0                     |14               |\n",
      "|before using this eBook.                                                     |1            |4           |4.0                      |4                |\n",
      "|Title: Alice's Adventures in Wonderland                                      |1            |5           |5.0                      |5                |\n",
      "|Author: Lewis Carroll                                                        |1            |3           |3.0                      |3                |\n",
      "|Contributor: Austin Dobson                                                   |1            |3           |3.0                      |3                |\n",
      "|Illustrator: Arthur Rackham                                                  |1            |3           |3.0                      |3                |\n",
      "|Release date: May 19, 2009 [eBook #28885]                                    |1            |5           |5.0                      |5                |\n",
      "|                Most recently updated: January 5, 2021                       |1            |6           |6.0                      |6                |\n",
      "|Language: English                                                            |1            |2           |2.0                      |2                |\n",
      "|Credits: Produced by Jana Srna, Emmy and the Online Distributed              |1            |10          |10.0                     |10               |\n",
      "|        Proofreading Team at https://www.pgdp.net (This file was             |1            |8           |8.0                      |8                |\n",
      "|        produced from images generously made available by the                |1            |9           |9.0                      |9                |\n",
      "|        University of Florida Digital Collections.)                          |1            |6           |6.0                      |6                |\n",
      "|*** START OF THE PROJECT GUTENBERG EBOOK ALICE'S ADVENTURES IN WONDERLAND ***|1            |12          |12.0                     |12               |\n",
      "+-----------------------------------------------------------------------------+-------------+------------+-------------------------+-----------------+\n",
      "only showing top 20 rows\n"
     ]
    }
   ],
   "source": [
    "df_parrafos.select(\"parrafos\", \"num_oraciones\", \"num_palabras\", \"longitud_promedio_palabra\", \"vocabulario_unico\").show(truncate=False)"
   ]
  },
  {
   "cell_type": "code",
   "execution_count": 31,
   "id": "51fdf4ec-3946-4a80-bc85-be832606cd5d",
   "metadata": {},
   "outputs": [],
   "source": [
    "spark.stop()"
   ]
  },
  {
   "cell_type": "code",
   "execution_count": null,
   "id": "924be439-91ce-4435-8511-1ce9963287b2",
   "metadata": {},
   "outputs": [],
   "source": []
  },
  {
   "cell_type": "code",
   "execution_count": null,
   "id": "a038150d-52a3-4aa0-b2e9-528600e5528b",
   "metadata": {},
   "outputs": [],
   "source": []
  },
  {
   "cell_type": "code",
   "execution_count": null,
   "id": "d7b51768-966c-4203-b072-bbdeb8ba28f8",
   "metadata": {},
   "outputs": [],
   "source": []
  },
  {
   "cell_type": "code",
   "execution_count": null,
   "id": "39fc72df-8714-4f4f-abd4-58c6a9a8ada9",
   "metadata": {},
   "outputs": [],
   "source": []
  },
  {
   "cell_type": "code",
   "execution_count": null,
   "id": "aa54a069-6fde-4d6e-9392-d7316a9ac225",
   "metadata": {},
   "outputs": [],
   "source": []
  },
  {
   "cell_type": "code",
   "execution_count": null,
   "id": "8d104600-8d99-4df8-b0be-56a08ecc4f52",
   "metadata": {},
   "outputs": [],
   "source": []
  },
  {
   "cell_type": "code",
   "execution_count": null,
   "id": "5013dd49-64b5-405f-83ac-def03aec9b87",
   "metadata": {},
   "outputs": [],
   "source": []
  }
 ],
 "metadata": {
  "kernelspec": {
   "display_name": "Python 3 (ipykernel)",
   "language": "python",
   "name": "python3"
  },
  "language_info": {
   "codemirror_mode": {
    "name": "ipython",
    "version": 3
   },
   "file_extension": ".py",
   "mimetype": "text/x-python",
   "name": "python",
   "nbconvert_exporter": "python",
   "pygments_lexer": "ipython3",
   "version": "3.12.3"
  }
 },
 "nbformat": 4,
 "nbformat_minor": 5
}
